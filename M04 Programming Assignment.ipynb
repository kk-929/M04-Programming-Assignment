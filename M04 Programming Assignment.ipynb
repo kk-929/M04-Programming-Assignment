{
 "cells": [
  {
   "cell_type": "code",
   "execution_count": 26,
   "id": "0707cd7b",
   "metadata": {},
   "outputs": [
    {
     "ename": "FileExistsError",
     "evalue": "[Errno 17] File exists: 'zoo.py'",
     "output_type": "error",
     "traceback": [
      "\u001b[1;31m---------------------------------------------------------------------------\u001b[0m",
      "\u001b[1;31mFileExistsError\u001b[0m                           Traceback (most recent call last)",
      "Cell \u001b[1;32mIn[26], line 1\u001b[0m\n\u001b[1;32m----> 1\u001b[0m fileobj \u001b[38;5;241m=\u001b[39m \u001b[38;5;28mopen\u001b[39m(\u001b[38;5;124m'\u001b[39m\u001b[38;5;124mzoo.py\u001b[39m\u001b[38;5;124m'\u001b[39m, \u001b[38;5;124m'\u001b[39m\u001b[38;5;124mxt\u001b[39m\u001b[38;5;124m'\u001b[39m)\n\u001b[0;32m      2\u001b[0m fileobj\u001b[38;5;241m.\u001b[39mwrite(\u001b[38;5;124m'\u001b[39m\u001b[38;5;124mdef hours(): \u001b[39m\u001b[38;5;130;01m\\n\u001b[39;00m\u001b[38;5;124m'\u001b[39m)  \n\u001b[0;32m      3\u001b[0m fileobj\u001b[38;5;241m.\u001b[39mwrite(\u001b[38;5;124m\"\u001b[39m\u001b[38;5;124m print (\u001b[39m\u001b[38;5;124m'\u001b[39m\u001b[38;5;124mOpen 9-5 daily\u001b[39m\u001b[38;5;124m'\u001b[39m\u001b[38;5;124m)\u001b[39m\u001b[38;5;124m\"\u001b[39m)  \n",
      "File \u001b[1;32mC:\\ProgramData\\anaconda3\\Lib\\site-packages\\IPython\\core\\interactiveshell.py:286\u001b[0m, in \u001b[0;36m_modified_open\u001b[1;34m(file, *args, **kwargs)\u001b[0m\n\u001b[0;32m    279\u001b[0m \u001b[38;5;28;01mif\u001b[39;00m file \u001b[38;5;129;01min\u001b[39;00m {\u001b[38;5;241m0\u001b[39m, \u001b[38;5;241m1\u001b[39m, \u001b[38;5;241m2\u001b[39m}:\n\u001b[0;32m    280\u001b[0m     \u001b[38;5;28;01mraise\u001b[39;00m \u001b[38;5;167;01mValueError\u001b[39;00m(\n\u001b[0;32m    281\u001b[0m         \u001b[38;5;124mf\u001b[39m\u001b[38;5;124m\"\u001b[39m\u001b[38;5;124mIPython won\u001b[39m\u001b[38;5;124m'\u001b[39m\u001b[38;5;124mt let you open fd=\u001b[39m\u001b[38;5;132;01m{\u001b[39;00mfile\u001b[38;5;132;01m}\u001b[39;00m\u001b[38;5;124m by default \u001b[39m\u001b[38;5;124m\"\u001b[39m\n\u001b[0;32m    282\u001b[0m         \u001b[38;5;124m\"\u001b[39m\u001b[38;5;124mas it is likely to crash IPython. If you know what you are doing, \u001b[39m\u001b[38;5;124m\"\u001b[39m\n\u001b[0;32m    283\u001b[0m         \u001b[38;5;124m\"\u001b[39m\u001b[38;5;124myou can use builtins\u001b[39m\u001b[38;5;124m'\u001b[39m\u001b[38;5;124m open.\u001b[39m\u001b[38;5;124m\"\u001b[39m\n\u001b[0;32m    284\u001b[0m     )\n\u001b[1;32m--> 286\u001b[0m \u001b[38;5;28;01mreturn\u001b[39;00m io_open(file, \u001b[38;5;241m*\u001b[39margs, \u001b[38;5;241m*\u001b[39m\u001b[38;5;241m*\u001b[39mkwargs)\n",
      "\u001b[1;31mFileExistsError\u001b[0m: [Errno 17] File exists: 'zoo.py'"
     ]
    }
   ],
   "source": [
    "fileobj = open('zoo.py', 'wt')\n",
    "fileobj.write('def hours(): \\n')  \n",
    "fileobj.write(\" print ('Open 9-5 daily')\")  \n",
    "fileobj.close()\n",
    "\n",
    "fileobj = open('zoo.py', 'rt')\n",
    "\n",
    "hours()\n",
    "\n",
    "fileobj.close()"
   ]
  },
  {
   "cell_type": "code",
   "execution_count": 13,
   "id": "3b10f6c5",
   "metadata": {},
   "outputs": [
    {
     "name": "stdout",
     "output_type": "stream",
     "text": [
      "Open 9-5 daily\n"
     ]
    }
   ],
   "source": [
    "import zoo\n",
    "\n",
    "menagerie = zoo.hours()\n",
    "\n",
    "menagerie"
   ]
  },
  {
   "cell_type": "code",
   "execution_count": 16,
   "id": "6b4e5743",
   "metadata": {},
   "outputs": [
    {
     "data": {
      "text/plain": [
       "<sqlite3.Cursor at 0x2022cdc6740>"
      ]
     },
     "execution_count": 16,
     "metadata": {},
     "output_type": "execute_result"
    }
   ],
   "source": [
    "import sqlite3\n",
    "\n",
    "conn = sqlite3.connect('books.db')\n",
    "curs = conn.cursor()\n",
    "curs.execute('''CREATE TABLE books (Title VARCHAR(100) PRIMARY KEY,\n",
    "Author VARCHAR (100), Year INT )''')\n",
    "\n",
    "curs.close()\n",
    "conn.close()"
   ]
  },
  {
   "cell_type": "code",
   "execution_count": 20,
   "id": "3579832f",
   "metadata": {},
   "outputs": [],
   "source": [
    "import csv\n",
    "\n",
    "books = [\n",
    "  ['The Weirdstone of Brisingamen' ,'Alan Garner','1960'],\n",
    "  ['Perdido Street Station' ,' China Miéville' ,'2000'],\n",
    "  ['Thud!','Terry Pratchett','2005'],\n",
    "  ['The Spellman Files' ,'Lisa Lutz' ,'2007'],\n",
    "  ['Small Gods','Terry Pratchett','1992'],\n",
    "]\n",
    "\n",
    "with open('books2.csv','xt') as fout:\n",
    "    csvout = csv.writer(fout)\n",
    "    csvout.writerows(books)\n"
   ]
  },
  {
   "cell_type": "code",
   "execution_count": 28,
   "id": "fbfe1cb2",
   "metadata": {},
   "outputs": [],
   "source": [
    "import csv\n",
    "books = [\n",
    "  {'title': 'The Weirdstone of Brisingamen','author':'Alan Garner','year':'1960'},\n",
    "  {'title':'Perdido Street Station' ,'author':' China Miéville' ,'year':'2000'},\n",
    "  {'title':'Thud!','author':'Terry Pratchett','year':'2005'},\n",
    "  {'title':'The Spellman Files' ,'author':'Lisa Lutz' ,'year':'2007'},\n",
    "  {'title':'Small Gods','author':'Terry Pratchett','year':'1992'},\n",
    "]\n",
    "with open('books2.csv','wt') as fout:\n",
    "    cout = csv.DictWriter(fout,['title', 'author','year'])\n",
    "    cout.writeheader()\n",
    "    cout.writerows(books)"
   ]
  },
  {
   "cell_type": "code",
   "execution_count": 31,
   "id": "66e8d727",
   "metadata": {},
   "outputs": [],
   "source": [
    "import csv \n",
    "import sqlite3\n",
    "\n",
    "conn = sqlite3.connect('books.db')\n",
    "cursor=conn.cursor()\n",
    "\n",
    "with open('books2.csv','rt') as fileobj:\n",
    "    reader=csv.DictReader(fileobj)\n",
    "    for row in reader:\n",
    "        title = row['title']\n",
    "        author = row['author']\n",
    "        year = row['year']\n",
    "        \n",
    "        cursor.execute(\"INSERT INTO books (Title,Author,Year)VALUES(?,?,?)\",(title, author, year))\n",
    "        \n",
    "        conn.commit()\n",
    "        conn.close()"
   ]
  },
  {
   "cell_type": "code",
   "execution_count": 39,
   "id": "f04c4ec1",
   "metadata": {},
   "outputs": [
    {
     "name": "stdout",
     "output_type": "stream",
     "text": [
      "('Perdido Street Station',)\n",
      "('Small Gods',)\n",
      "('The Spellman Files',)\n",
      "('The Weirdstone of Brisingamen',)\n",
      "('Thud!',)\n"
     ]
    }
   ],
   "source": [
    "import sqlalchemy as sa\n",
    "\n",
    "conn = sa.create_engine('sqlite:///:memory:')\n",
    "conn.execute('''CREATE TABLE books (Title VARCHAR(100) PRIMARY KEY,\n",
    "Author VARCHAR (100), Year INT )''')\n",
    "ins = 'INSERT INTO books(Title, Author, Year)VALUES (? ,? ,?)'\n",
    "conn.execute(ins,'The Weirdstone of Brisingamen','Alan Garner','1960')\n",
    "conn.execute(ins,'Perdido Street Station' ,' China Miéville' ,'2000')\n",
    "conn.execute(ins,'Thud!','Terry Pratchett','2005') \n",
    "conn.execute(ins,'The Spellman Files' ,'Lisa Lutz' ,'2007')\n",
    "conn.execute(ins,'Small Gods','Terry Pratchett','1992')\n",
    "rows = conn.execute('SELECT Title FROM books')\n",
    "for row in rows:\n",
    "    print(row)"
   ]
  },
  {
   "cell_type": "code",
   "execution_count": null,
   "id": "b5664b64",
   "metadata": {},
   "outputs": [],
   "source": []
  }
 ],
 "metadata": {
  "kernelspec": {
   "display_name": "Python 3 (ipykernel)",
   "language": "python",
   "name": "python3"
  },
  "language_info": {
   "codemirror_mode": {
    "name": "ipython",
    "version": 3
   },
   "file_extension": ".py",
   "mimetype": "text/x-python",
   "name": "python",
   "nbconvert_exporter": "python",
   "pygments_lexer": "ipython3",
   "version": "3.11.5"
  }
 },
 "nbformat": 4,
 "nbformat_minor": 5
}
